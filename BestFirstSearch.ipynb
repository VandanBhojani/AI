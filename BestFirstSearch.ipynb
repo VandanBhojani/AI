{
  "nbformat": 4,
  "nbformat_minor": 0,
  "metadata": {
    "colab": {
      "name": "BestFirstSearch.ipynb",
      "provenance": [],
      "authorship_tag": "ABX9TyNtBvVU4i8Wjim/9bytHxXw",
      "include_colab_link": true
    },
    "kernelspec": {
      "name": "python3",
      "display_name": "Python 3"
    },
    "language_info": {
      "name": "python"
    }
  },
  "cells": [
    {
      "cell_type": "markdown",
      "metadata": {
        "id": "view-in-github",
        "colab_type": "text"
      },
      "source": [
        "<a href=\"https://colab.research.google.com/github/VandanBhojani/AI/blob/main/BestFirstSearch.ipynb\" target=\"_parent\"><img src=\"https://colab.research.google.com/assets/colab-badge.svg\" alt=\"Open In Colab\"/></a>"
      ]
    },
    {
      "cell_type": "code",
      "execution_count": 1,
      "metadata": {
        "id": "b485CgHPvkXU"
      },
      "outputs": [],
      "source": [
        "class Graph:\n",
        "  def __init__(self,V,costs):\n",
        "    self.V = V\n",
        "    self.costs = costs\n",
        "    self.adj = {}\n",
        "    for i in range(self.V):\n",
        "      self.adj[i] = []\n",
        "    \n",
        "  def add_edge(self,src,dest,isundir=True):\n",
        "    self.adj[src].append(dest)\n",
        "    if isundir:\n",
        "      self.adj[dest].append(src)\n",
        "\n",
        "  def best_first_search(self,src,goal):\n",
        "    q = [(src,self.costs[src])]\n",
        "    visited = [False]*self.V\n",
        "    visited[src] = True\n",
        "    while(len(q)):\n",
        "      q.sort(key = lambda tup:tup[1])\n",
        "      f = q[0]\n",
        "      print(f[0],end=\" \")\n",
        "      q.pop(0)\n",
        "      if f[0]==goal : return \n",
        "      for i in self.adj[f[0]]:\n",
        "        if visited[i]==False:\n",
        "          q.append((i, costs[i]))\n",
        "          visited[i] = True"
      ]
    },
    {
      "cell_type": "code",
      "source": [
        "costs=[40, 32, 25, 35, 19, 17, 0, 10]\n",
        "G = Graph(11, costs)\n",
        "G.add_edge(0, 1)\n",
        "G.add_edge(0, 2)\n",
        "G.add_edge(0, 3)\n",
        "G.add_edge(1, 4)\n",
        "G.add_edge(2, 4)\n",
        "G.add_edge(2, 5)\n",
        "G.add_edge(3, 5)\n",
        "G.add_edge(4, 7)\n",
        "G.add_edge(5, 6)\n",
        "G.add_edge(7, 6)\n",
        "\n",
        "\n",
        "G.best_first_search(0, 6)"
      ],
      "metadata": {
        "colab": {
          "base_uri": "https://localhost:8080/"
        },
        "id": "sEqnmkxtvsxy",
        "outputId": "24740b58-50c6-4e1e-a87e-5e8852c2515d"
      },
      "execution_count": 2,
      "outputs": [
        {
          "output_type": "stream",
          "name": "stdout",
          "text": [
            "0 2 5 6 "
          ]
        }
      ]
    }
  ]
}