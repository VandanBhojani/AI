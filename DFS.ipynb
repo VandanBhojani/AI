{
  "nbformat": 4,
  "nbformat_minor": 0,
  "metadata": {
    "colab": {
      "name": "DFS.ipynb",
      "provenance": [],
      "authorship_tag": "ABX9TyNyDe3Tzl0+xP3bDGdwD08f",
      "include_colab_link": true
    },
    "kernelspec": {
      "name": "python3",
      "display_name": "Python 3"
    },
    "language_info": {
      "name": "python"
    }
  },
  "cells": [
    {
      "cell_type": "markdown",
      "metadata": {
        "id": "view-in-github",
        "colab_type": "text"
      },
      "source": [
        "<a href=\"https://colab.research.google.com/github/VandanBhojani/AI/blob/main/DFS.ipynb\" target=\"_parent\"><img src=\"https://colab.research.google.com/assets/colab-badge.svg\" alt=\"Open In Colab\"/></a>"
      ]
    },
    {
      "cell_type": "code",
      "execution_count": 2,
      "metadata": {
        "colab": {
          "base_uri": "https://localhost:8080/"
        },
        "id": "AkT46iBa63Kn",
        "outputId": "2f9d3b54-ee2a-443a-f9cc-cc3c891eb8fb"
      },
      "outputs": [
        {
          "output_type": "stream",
          "name": "stdout",
          "text": [
            "Following  is  the  Depth-First  Search::\n",
            "5\n",
            "3\n",
            "2\n",
            "4\n",
            "8\n",
            "7\n"
          ]
        }
      ],
      "source": [
        "graph = {\n",
        "'5'  :  ['3','7'],\n",
        "'3'  :  ['2',  '4'],\n",
        "'7'  :  ['8'],\n",
        "'2'  :  [],\n",
        "'4'  :  ['8'],\n",
        "'8'  :  []\n",
        "}\n",
        "\n",
        "visited  =  set()  #  keep  track  of  visited  nodes  of  graph.\n",
        "\n",
        "def  dfs(visited,  graph,  node):\t#function  for  dfs\n",
        "  if  node  not  in  visited: \n",
        "    print  (node) \n",
        "  visited.add(node)\n",
        "  for  n  in  graph[node]:\t#  n  is  side  node  that  will  be  visited\n",
        "      dfs(visited,  graph,  n)\n",
        "\n",
        "# Driver Code\n",
        "print(\"Following  is  the  Depth-First  Search::\") \n",
        "dfs(visited,  graph,  '5')\n"
      ]
    }
  ]
}